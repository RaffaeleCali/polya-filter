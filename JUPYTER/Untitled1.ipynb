{
 "cells": [
  {
   "cell_type": "markdown",
   "id": "70348a9f",
   "metadata": {},
   "source": [
    "### Progetto introduzione al datamining\n",
    "## Calì Raffaele\n"
   ]
  },
  {
   "cell_type": "markdown",
   "id": "3835fcb2",
   "metadata": {},
   "source": [
    "### Porting Polya Filter"
   ]
  },
  {
   "cell_type": "markdown",
   "id": "56c4032f",
   "metadata": {},
   "source": [
    "#### Descrizione del Problema"
   ]
  },
  {
   "cell_type": "markdown",
   "id": "129ebb87",
   "metadata": {},
   "source": [
    "La funzione Polya Filter implementa un nuovo metodo per filtrare le informazioni all'interno di reti complesse. Le reti complesse sono reti costituite da un gran numero di nodi interconnessi tra loro, come ad esempio le reti sociali o le reti di comunicazione. Gli autori della funzione propongono una metodologia di filtraggio ispirata all'urna di Pólya, il quale rappresenta un modello combinatorio guidato da un meccanismo  di auto-rinforzo, che si basa su una famiglia di ipotesi nulle che possono essere calibrate per valutare quali archi sono statisticamente significativi rispetto all'eterogeneità propria di una rete."
   ]
  },
  {
   "cell_type": "markdown",
   "id": "249cf984",
   "metadata": {},
   "source": [
    "L'urna di Pólya è un modello probabilistico in cui una serie di palline (o \"urne\") di colori diversi vengono \n",
    "estratte e rimesse in altre urne che contengono palline dello stesso colore. In questo modo, il contenuto \n",
    "dell'urna cambia nel tempo, riflettendo l'evoluzione delle frequenze dei colori."
   ]
  },
  {
   "cell_type": "markdown",
   "id": "7e2569a9",
   "metadata": {},
   "source": [
    "Nel contesto della propagazione delle informazioni, l'urna di Pólya può essere utilizzata per modellizzare il \n",
    "modo in cui un'idea o un'informazione si diffonde all'interno di una rete. Ad esempio, si può immaginare \n",
    "che ogni nodo della rete abbia un colore associato (in base al contenuto dell'informazione) e che i nodi si \n",
    "scambino informazioni tra di loro, modificando così le frequenze dei colori. Gli autori della funzione\n",
    "utilizzano l'urna di Pólya per modellizzare la propagazione di informazioni all'interno di una rete sociale, in \n",
    "cui ogni nodo rappresenta un individuo e ogni arco rappresenta una connessione sociale. In particolare, il \n",
    "modello viene utilizzato per studiare il processo di \"filtraggio\" delle informazioni all'interno della rete, \n",
    "ovvero il modo in cui le informazioni vengono selezionate, modificate e trasmesse dai nodi della rete."
   ]
  },
  {
   "cell_type": "markdown",
   "id": "8babb073",
   "metadata": {},
   "source": [
    "Lo studio dimostra l'efficacia del metodo attraverso una serie di esperimenti su reti complesse reali e \n",
    "artificiali. In particolare, si evidenzia come il metodo proposto riesca a migliorare significativamente la \n",
    "precisione della selezione dei nodi da cui diffondere l'informazione rispetto ad altri metodi tradizionali. Gli \n",
    "autori dimostrano che questo approccio può essere utilizzato per prevedere l'evoluzione della rete e \n",
    "identificare i nodi influenti nella diffusione delle informazioni. Inoltre, il modello può essere esteso per\n",
    "considerare l'influenza di nodi esterni alla rete e per prevedere l'effetto di diverse strategie di diffusione \n",
    "delle informazioni."
   ]
  },
  {
   "cell_type": "markdown",
   "id": "8c3b8654",
   "metadata": {},
   "source": [
    "In pratica, il metodo prevede di assegnare un punteggio a ogni nodo della rete in base alla sua importanza \n",
    "relativa e di utilizzare questi punteggi per selezionare i nodi da cui diffondere l'informazione. Inoltre, il \n",
    "metodo tiene conto del fatto che l'importanza dei nodi può variare nel tempo, ad esempio a seguito di \n",
    "nuove informazioni che emergono nella rete."
   ]
  },
  {
   "cell_type": "markdown",
   "id": "b4ce4b89",
   "metadata": {},
   "source": [
    "#### Descrizione codice"
   ]
  },
  {
   "cell_type": "markdown",
   "id": "e535811d",
   "metadata": {},
   "source": [
    "La funzione prende in input una matrice di adiacenza \"W\" che rappresenta la rete, un parametro \"a\" libero \n",
    "del filtro, un livello di approssimazione \"apr_lvl\" e un flag \"parallel\" per abilitare o disabilitare l'elaborazione \n",
    "parallela.\n"
   ]
  },
  {
   "cell_type": "markdown",
   "id": "ebb2d05d",
   "metadata": {},
   "source": [
    "Il parametro \"a\" si riferisce alla probabilità che un nodo della rete decida di seguire un'altra fonte di \n",
    "informazione invece di continuare a seguire la sua attuale fonte.\n",
    "In particolare, il modello considera un'urna di Pólya contenente biglie di due colori, dove il colore rosso \n",
    "rappresenta la fonte di informazione corrente del nodo e il colore nero rappresenta una nuova fonte di \n",
    "informazione potenziale. Il parametro \"a\" specifica la probabilità che un nodo decida di prendere una biglia \n",
    "nera invece di una rossa dalla urna, cioè la probabilità che un nodo cambi la sua attuale fonte di \n",
    "informazione.\n",
    "Questo parametro è importante perché influenza la dinamica del modello e la velocità di diffusione delle \n",
    "informazioni nella rete. Ad esempio, se il valore di \"a\" è molto basso, i nodi avranno una maggiore \n",
    "probabilità di rimanere fedeli alla loro attuale fonte di informazione, rallentando la diffusione delle nuove \n",
    "informazioni nella rete. Al contrario, se il valore di \"a\" è molto alto, i nodi saranno più propensi a cambiare \n",
    "la loro fonte di informazione, accelerando la diffusione delle informazioni nella rete."
   ]
  },
  {
   "cell_type": "markdown",
   "id": "de5104e5",
   "metadata": {},
   "source": [
    "Il codice esegue diverse operazioni per calcolare i p-value . In primo luogo, controlla se la rete è simmetrica, estrae gli archi (i, j, w) dalla matrice di adiacenza W in base alla simmetria e \n",
    "ottiene l'elenco degli archi. Inoltre, calcola i gradi (k_in, k_out) e le forze (s_in, s_out) di \n",
    "ogni nodo utilizzando la forma asintotica se sono presenti pesi non interi."
   ]
  },
  {
   "cell_type": "markdown",
   "id": "ac94ef98",
   "metadata": {},
   "source": [
    "Infine, la funzione calcola i p-value per ogni arco (i, j, w) utilizzando la funzione polya_cdf e restituisce il \n",
    "valore minimo di p , essa implementa la distribuzione cumulativa della Polya. Questa funzione calcola i p-value che possono essere approssimati e quelli che non possono essere approssimati utilizzando due forme diverse a seconda del valore di a: \n",
    "se a = 0 usa la distribuzione binomiale altrimenti usa un'approssimazione asintotica. "
   ]
  },
  {
   "cell_type": "markdown",
   "id": "f84d07e1",
   "metadata": {},
   "source": [
    "La funzione restituisce un vettore di valori \"P\" che rappresentano i p-value prescritti dal filtro di Polya per \n",
    "ciascun link della rete"
   ]
  },
  {
   "cell_type": "markdown",
   "id": "902c6532",
   "metadata": {},
   "source": [
    "#### Come utilizzarlo "
   ]
  },
  {
   "cell_type": "markdown",
   "id": "63ead3a2",
   "metadata": {},
   "source": [
    "Aprire la cartella \"idmdefinitivo\" e avviare il progetto in R. "
   ]
  },
  {
   "cell_type": "markdown",
   "id": "5817a9e5",
   "metadata": {},
   "source": [
    "Librerie utilizzate :"
   ]
  },
  {
   "cell_type": "markdown",
   "id": "2c972e18",
   "metadata": {},
   "source": [
    "igraph"
   ]
  },
  {
   "cell_type": "markdown",
   "id": "1684c114",
   "metadata": {},
   "source": [
    "mvtnorm"
   ]
  },
  {
   "cell_type": "markdown",
   "id": "17916ae3",
   "metadata": {},
   "source": [
    "Matrix"
   ]
  },
  {
   "cell_type": "markdown",
   "id": "883e28a2",
   "metadata": {},
   "source": [
    "#### Esempio di prova con grafo creato a mano "
   ]
  },
  {
   "cell_type": "markdown",
   "id": "235c5b88",
   "metadata": {},
   "source": [
    "Creazione grafo vuoto"
   ]
  },
  {
   "cell_type": "markdown",
   "id": "63278586",
   "metadata": {},
   "source": [
    "g <- make_empty_graph()"
   ]
  },
  {
   "cell_type": "markdown",
   "id": "4537e655",
   "metadata": {},
   "source": [
    "aggiunta dei nodi e degli archi"
   ]
  },
  {
   "cell_type": "markdown",
   "id": "3151210c",
   "metadata": {},
   "source": [
    "g <- add_vertices(g, 5)"
   ]
  },
  {
   "cell_type": "markdown",
   "id": "28fd2dd8",
   "metadata": {},
   "source": [
    "g <- add_edges(g, c(1,2, 1,3, 2,4, 3,4, 4,5),attr=list(weight=c(0.5, 0.8, 0.2, 1.0, 0.6)))"
   ]
  },
  {
   "cell_type": "markdown",
   "id": "df3a6223",
   "metadata": {},
   "source": [
    "chiamata delle funzione"
   ]
  },
  {
   "cell_type": "markdown",
   "id": "4b7fb959",
   "metadata": {},
   "source": [
    "PF(adj_matrixg,4.5,2,FALSE)"
   ]
  },
  {
   "cell_type": "markdown",
   "id": "e874122a",
   "metadata": {},
   "source": [
    "#### Esempio di prova con grafo acquisito da Network Repository"
   ]
  },
  {
   "cell_type": "markdown",
   "id": "3b9e0f8f",
   "metadata": {},
   "source": [
    "grafo contenunto nel file bio-CE-CX.edges "
   ]
  },
  {
   "cell_type": "markdown",
   "id": "aea92146",
   "metadata": {},
   "source": [
    "lettura da file e creazione struttura grafo"
   ]
  },
  {
   "cell_type": "markdown",
   "id": "335a5a13",
   "metadata": {},
   "source": [
    "edge_list <- read.csv(\"bio-CE-CX.edges\", header = FALSE, sep = \" \")"
   ]
  },
  {
   "cell_type": "markdown",
   "id": "4254577d",
   "metadata": {},
   "source": [
    "graph <- graph_from_data_frame(d = edge_list, directed = FALSE, vertices = NULL)"
   ]
  },
  {
   "cell_type": "markdown",
   "id": "9ae33a34",
   "metadata": {},
   "source": [
    "creazione matrice di adiacenza"
   ]
  },
  {
   "cell_type": "markdown",
   "id": "151045c0",
   "metadata": {},
   "source": [
    "adj_matrix <- as_adjacency_matrix(graph, type = \"both\",sparse = FALSE)"
   ]
  },
  {
   "cell_type": "markdown",
   "id": "8cc79ca0",
   "metadata": {},
   "source": [
    "chiamata della funzione PF"
   ]
  },
  {
   "cell_type": "markdown",
   "id": "5327da1e",
   "metadata": {},
   "source": [
    "PF(adj_matrix,4.5,2,FALSE)"
   ]
  },
  {
   "cell_type": "code",
   "execution_count": 3,
   "id": "3950cb61",
   "metadata": {},
   "outputs": [
    {
     "ename": "SyntaxError",
     "evalue": "invalid syntax (Temp/ipykernel_5660/2550851002.py, line 1)",
     "output_type": "error",
     "traceback": [
      "\u001b[1;36m  File \u001b[1;32m\"C:\\Users\\Raffaele\\AppData\\Local\\Temp/ipykernel_5660/2550851002.py\"\u001b[1;36m, line \u001b[1;32m1\u001b[0m\n\u001b[1;33m    nbconvert --to webpdf --allow-chromium-download Untitled1.ipynb\u001b[0m\n\u001b[1;37m                   ^\u001b[0m\n\u001b[1;31mSyntaxError\u001b[0m\u001b[1;31m:\u001b[0m invalid syntax\n"
     ]
    }
   ],
   "source": [
    "nbconvert --to webpdf --allow-chromium-download Untitled1.ipynb"
   ]
  },
  {
   "cell_type": "code",
   "execution_count": null,
   "id": "e30fa6ce",
   "metadata": {},
   "outputs": [],
   "source": []
  }
 ],
 "metadata": {
  "kernelspec": {
   "display_name": "Python 3 (ipykernel)",
   "language": "python",
   "name": "python3"
  },
  "language_info": {
   "codemirror_mode": {
    "name": "ipython",
    "version": 3
   },
   "file_extension": ".py",
   "mimetype": "text/x-python",
   "name": "python",
   "nbconvert_exporter": "python",
   "pygments_lexer": "ipython3",
   "version": "3.9.7"
  }
 },
 "nbformat": 4,
 "nbformat_minor": 5
}
